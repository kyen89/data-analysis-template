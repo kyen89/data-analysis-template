{
 "metadata": {
  "name": ""
 },
 "nbformat": 3,
 "nbformat_minor": 0,
 "worksheets": [
  {
   "cells": [
    {
     "cell_type": "heading",
     "level": 1,
     "metadata": {},
     "source": [
      "Data Cleaning"
     ]
    },
    {
     "cell_type": "markdown",
     "metadata": {},
     "source": [
      "In this notebook, we'll\n",
      "\n",
      "* **load the raw data into R or Pandas dataframe** from the <code>./data/raw</code> directory using the functions and classes (written during the data gathering phase) in the <code>./scripts</code> directory\n",
      "\n",
      "\n",
      "* **perform visual exploration** on your data variables to detect anomalies, errors, outliers, interesting features etc.\n",
      "\n",
      "\n",
      "\n",
      "* **clean categorical and quantitative variables** (by removing observations and variables with too many missing values, by consolidating categorical variables, by selecting an appropriate subset of variables and observations for later analysis, etc.)\n",
      "\n",
      "\n",
      "* **save the cleaned data** into csv files in the <code>./data/cleaned</code> directory\n",
      "\n",
      "\n",
      "* **save interesting graphics** we obtained during visual exploration into the <code>./visualiation</code> directory"
     ]
    },
    {
     "cell_type": "heading",
     "level": 2,
     "metadata": {},
     "source": [
      "Cleaning the HIV Data"
     ]
    },
    {
     "cell_type": "markdown",
     "metadata": {},
     "source": [
      "First, we'll need to load the data again using the functions defined in the previous notebook."
     ]
    },
    {
     "cell_type": "code",
     "collapsed": false,
     "input": [
      "%load_ext rmagic"
     ],
     "language": "python",
     "metadata": {},
     "outputs": [
      {
       "output_type": "stream",
       "stream": "stdout",
       "text": [
        "The rmagic extension is already loaded. To reload it, use:\n",
        "  %reload_ext rmagic\n"
       ]
      }
     ],
     "prompt_number": 9
    },
    {
     "cell_type": "code",
     "collapsed": false,
     "input": [
      "%%R\n",
      "source('./scripts/hiv_loader.R')\n",
      "\n",
      "hiv_diagnoses = get_hiv_diagnoses_df()\n",
      "citizenship_status = get_citizenship_status_df()\n",
      "fpl = get_fpl_df()\n",
      "income = get_income_df()\n",
      "unemployment = get_unemployment_df()\n",
      "insured = get_insured_df()\n",
      "hospital = get_hospital_df()\n",
      "federal_funds = get_federal_funds_df()\n",
      "test_rate = get_test_rate_df()\n",
      "sex_ed_6_9 = get_sex_ed_6_8_df()\n",
      "sex_ed_9_12 = get_sex_ed_9_12_df()\n",
      "chlamydia = get_chlamydia_df()\n",
      "gonorrhea = get_gonorrhea_df()\n",
      "syphilis = get_syphilis_df()"
     ],
     "language": "python",
     "metadata": {},
     "outputs": [],
     "prompt_number": 10
    },
    {
     "cell_type": "markdown",
     "metadata": {},
     "source": [
      "Next, we'll filter the `Location` field so that we limit our analysis to the 50 US states. We'll also reindex the dataframe."
     ]
    },
    {
     "cell_type": "code",
     "collapsed": false,
     "input": [
      "%%R\n",
      "states = c('Alabama', 'Alaska', 'Arizona', 'Arkansas', 'California', 'Colorado', 'Connecticut', 'Delaware', 'Florida', 'Georgia', 'Hawaii', 'Idaho', 'Illinois', 'Indiana', 'Iowa', 'Kansas', 'Kentucky', 'Louisiana', 'Maine', 'Maryland', 'Massachusetts', 'Michigan', 'Minnesota', 'Mississippi', 'Missouri', 'Montana', 'Nebraska', 'Nevada', 'New Hampshire', 'New Jersey', 'New Mexico', 'New York', 'North Carolina', 'North Dakota', 'Ohio', 'Oklahoma', 'Oregon', 'Pennsylvania', 'Rhode Island', 'South Carolina', 'South Dakota', 'Tennessee', 'Texas', 'Utah', 'Vermont', 'Virginia', 'Washington', 'West Virginia', 'Wisconsin', 'Wyoming')\n",
      "hiv_diagnoses = hiv_diagnoses[hiv_diagnoses$Location %in% states, ]\n",
      "row.names(hiv_diagnoses) = 1:nrow(hiv_diagnoses)\n",
      "citizenship_status = citizenship_status[citizenship_status$Location %in% states, ]\n",
      "row.names(citizenship_status) = 1:nrow(citizenship_status)\n",
      "fpl = fpl[fpl$Location %in% states, ]\n",
      "row.names(fpl) = 1:nrow(fpl)\n",
      "income = income[income$Location %in% states, ]\n",
      "row.names(income) = 1:nrow(income)\n",
      "unemployment = unemployment[unemployment$Location %in% states, ]\n",
      "row.names(unemployment) = 1:nrow(unemployment)\n",
      "insured = insured[insured$Location %in% states, ]\n",
      "row.names(insured) = 1:nrow(insured)\n",
      "hospital = hospital[hospital$Location %in% states, ]\n",
      "row.names(hospital) = 1:nrow(hospital)\n",
      "federal_funds = federal_funds[federal_funds$Location %in% states, ]\n",
      "row.names(federal_funds) = 1:nrow(federal_funds)\n",
      "test_rate = test_rate[test_rate$Location %in% states, ]\n",
      "row.names(test_rate) = 1:nrow(test_rate)\n",
      "sex_ed_6_9 = sex_ed_6_9[sex_ed_6_9$Location %in% states, ]\n",
      "row.names(sex_ed_6_9) = 1:nrow(sex_ed_6_9)\n",
      "sex_ed_9_12 = sex_ed_9_12[sex_ed_9_12$Location %in% states, ]\n",
      "row.names(sex_ed_9_12) = 1:nrow(sex_ed_9_12)\n",
      "chlamydia = chlamydia[chlamydia$Location %in% states, ]\n",
      "row.names(chlamydia) = 1:nrow(chlamydia)\n",
      "gonorrhea = gonorrhea[gonorrhea$Location %in% states, ]\n",
      "row.names(gonorrhea) = 1:nrow(gonorrhea)\n",
      "syphilis = syphilis[syphilis$Location %in% states, ]\n",
      "row.names(syphilis) = 1:nrow(syphilis)"
     ],
     "language": "python",
     "metadata": {},
     "outputs": [],
     "prompt_number": 11
    },
    {
     "cell_type": "heading",
     "level": 3,
     "metadata": {},
     "source": [
      "Dealing with Missing Values"
     ]
    },
    {
     "cell_type": "markdown",
     "metadata": {},
     "source": [
      "We conformed data to `NA` in `citizenship_status` and added `NA` values for Wyoming, which was missing completely."
     ]
    },
    {
     "cell_type": "code",
     "collapsed": false,
     "input": [
      "%%R\n",
      "citizenship_status[citizenship_status == 'NSD'] = NA\n",
      "insured[insured == 'NSD'] = NA\n",
      "if (nrow(citizenship_status) != 50) {\n",
      "    citizenship_status = rbind(citizenship_status, c('Wyoming', NA, NA, NA))\n",
      "}"
     ],
     "language": "python",
     "metadata": {},
     "outputs": [],
     "prompt_number": 12
    },
    {
     "cell_type": "heading",
     "level": 3,
     "metadata": {},
     "source": [
      "Normalizing Data Values"
     ]
    },
    {
     "cell_type": "markdown",
     "metadata": {},
     "source": [
      "To make things easier later, we'll use state abbreviations rather than their full names."
     ]
    },
    {
     "cell_type": "code",
     "collapsed": false,
     "input": [
      "%%R\n",
      "abbreviations = c('AL', 'AK', 'AZ', 'AR', 'CA', 'CO', 'CT', 'DE', 'FL', 'GA', 'HI', 'ID', 'IL', 'IN', 'IA', 'KS', 'KY', 'LA', 'ME', 'MD', 'MA', 'MI', 'MN', 'MS', 'MO', 'MT', 'NE', 'NV', 'NH', 'NJ', 'NM', 'NY', 'NC', 'ND', 'OH', 'OK', 'OR', 'PA', 'RI', 'SC', 'SD', 'TN', 'TX', 'UT', 'VT', 'VA', 'WA', 'WV', 'WI', 'WY')\n",
      "hiv_diagnoses$Location = abbreviations\n",
      "citizenship_status$Location = abbreviations\n",
      "fpl$Location = abbreviations\n",
      "income$Location = abbreviations\n",
      "unemployment$Location = abbreviations\n",
      "insured$Location = abbreviations\n",
      "hospital$Location = abbreviations\n",
      "federal_funds$Location = abbreviations\n",
      "test_rate$Location = abbreviations\n",
      "sex_ed_6_9$Location = abbreviations\n",
      "sex_ed_9_12$Location = abbreviations\n",
      "chlamydia$Location = abbreviations\n",
      "gonorrhea$Location = abbreviations\n",
      "syphilis$Location = abbreviations"
     ],
     "language": "python",
     "metadata": {},
     "outputs": [],
     "prompt_number": 13
    },
    {
     "cell_type": "code",
     "collapsed": false,
     "input": [
      "%%R\n",
      "file.create(c('./data/cleaned/HIV_Diagnoses.csv', \n",
      "              './data/cleaned/Citizenship_Status.csv', \n",
      "              './data/cleaned/fpl.csv', \n",
      "              './data/cleaned/Median_Annual_Income.csv', \n",
      "              './data/cleaned/unemployment_rate.csv',\n",
      "              './data/cleaned/Has_Insurance.csv',\n",
      "              './data/cleaned/Hospital_Owners.csv',\n",
      "              './data/cleaned/Federal_Funds.csv',\n",
      "              './data/cleaned/Test_Rate.csv',\n",
      "              './data/cleaned/Sex_Ed_6_8.csv',\n",
      "              './data/cleaned/Sex_Ed_9_12.csv',\n",
      "              './data/cleaned/chlamydia_cases.csv',\n",
      "              './data/cleaned/gonorrhea_cases.csv',\n",
      "              './data/cleaned/syphilis_cases.csv'))\n",
      "write.csv(hiv_diagnoses, './data/cleaned/HIV_Diagnoses.csv', row.names=F)\n",
      "write.csv(citizenship_status, './data/cleaned/Citizenship_Status.csv', row.names=F)\n",
      "write.csv(fpl, './data/cleaned/fpl.csv', row.names=F)\n",
      "write.csv(income, './data/cleaned/Median_Annual_Income.csv', row.names=F)\n",
      "write.csv(unemployment, './data/cleaned/unemployment_rate.csv', row.names=F)\n",
      "write.csv(insured, './data/cleaned/Has_Insurance.csv', row.names=F)\n",
      "write.csv(hospital, './data/cleaned/Hospital_Owners.csv', row.names=F)\n",
      "write.csv(federal_funds, './data/cleaned/Federal_Funds.csv', row.names=F)\n",
      "write.csv(test_rate, './data/cleaned/Test_Rate.csv', row.names=F)\n",
      "write.csv(sex_ed_6_9, './data/cleaned/Sex_Ed_6_8.csv', row.names=F)\n",
      "write.csv(sex_ed_9_12, './data/cleaned/Sex_Ed_9_12.csv', row.names=F)\n",
      "write.csv(chlamydia, './data/cleaned/chlamydia_cases.csv', row.names=F)\n",
      "write.csv(gonorrhea, './data/cleaned/gonorrhea_cases.csv', row.names=F)\n",
      "write.csv(syphilis, './data/cleaned/syphilis_cases.csv', row.names=F)"
     ],
     "language": "python",
     "metadata": {},
     "outputs": [],
     "prompt_number": 14
    },
    {
     "cell_type": "heading",
     "level": 2,
     "metadata": {},
     "source": [
      "A Helper Function for Future Parts"
     ]
    },
    {
     "cell_type": "markdown",
     "metadata": {},
     "source": [
      "Whenever possible, we'll try to keep things normalized to 1, since many of these fields are percentages. We'll also need to convert everything to a `numeric` type."
     ]
    },
    {
     "cell_type": "code",
     "collapsed": false,
     "input": [
      "%%file ./scripts/hiv_loader_clean.R\n",
      "\n",
      "options(stringsAsFactors=FALSE)\n",
      "get_all_data = function() {\n",
      "\n",
      "    all_data = matrix()\n",
      "    \n",
      "    hiv_diagnoses      = read.csv('./data/cleaned/HIV_Diagnoses.csv')\n",
      "    citizenship_status = read.csv('./data/cleaned/Citizenship_Status.csv')\n",
      "    fpl                = read.csv('./data/cleaned/fpl.csv')\n",
      "    income             = read.csv('./data/cleaned/Median_Annual_Income.csv')\n",
      "    unemployment       = read.csv('./data/cleaned/unemployment_rate.csv')\n",
      "    insured            = read.csv('./data/cleaned/Has_Insurance.csv')\n",
      "    hospital           = read.csv('./data/cleaned/Hospital_Owners.csv')\n",
      "    federal_funds      = read.csv('./data/cleaned/Federal_Funds.csv')\n",
      "    test_rate          = read.csv('./data/cleaned/Test_Rate.csv')\n",
      "    sex_ed_6_9         = read.csv('./data/cleaned/Sex_Ed_6_8.csv')\n",
      "    sex_ed_9_12        = read.csv('./data/cleaned/Sex_Ed_9_12.csv')\n",
      "    chlamydia          = read.csv('./data/cleaned/chlamydia_cases.csv')\n",
      "    gonorrhea          = read.csv('./data/cleaned/gonorrhea_cases.csv')\n",
      "    syphilis           = read.csv('./data/cleaned/syphilis_cases.csv')\n",
      "\n",
      "    hiv_diagnoses[, -1] = sapply(hiv_diagnoses[, -1], as.numeric)\n",
      "    citizenship_status[, -1] = sapply(citizenship_status[, -1], as.numeric)\n",
      "    fpl[, -1] = sapply(fpl[, -1], as.numeric)\n",
      "    income[, -1] = sapply(income[, -1], as.numeric)\n",
      "    unemployment[, -1] = sapply(unemployment[, -1], as.numeric)\n",
      "    insured[, -1] = sapply(insured[, -1], as.numeric)\n",
      "    hospital[, -1] = sapply(hospital[, -1], as.numeric)\n",
      "    federal_funds[, -1] = sapply(federal_funds[, -1], as.numeric)\n",
      "    test_rate[, -1] = sapply(test_rate[, -1], as.numeric)\n",
      "    sex_ed_6_9[, -1] = sapply(sex_ed_6_9[, -1], as.numeric)\n",
      "    sex_ed_9_12[, -1] = sapply(sex_ed_9_12[, -1], as.numeric)\n",
      "    chlamydia[, -1] = sapply(chlamydia[, -1], as.numeric)\n",
      "    gonorrhea[, -1] = sapply(gonorrhea[, -1], as.numeric)\n",
      "    syphilis[, -1] = sapply(syphilis[, -1], as.numeric)\n",
      "\n",
      "    # Percentages are probably much more useful here than raw numbers\n",
      "    hospital[, -1] = hospital[, -1] / 100\n",
      "    sex_ed_6_9[, -1] = sex_ed_6_9[, -1] / 100\n",
      "    sex_ed_9_12[, -1] = sex_ed_9_12[, -1] / 100\n",
      "    federal_funds[, -1] = federal_funds[, -1] / 100000000\n",
      "    \n",
      "    all_data$hiv_diagnoses = hiv_diagnoses\n",
      "    all_data$citizenship_status = citizenship_status\n",
      "    all_data$fpl = fpl\n",
      "    all_data$income = income\n",
      "    all_data$unemployment = unemployment\n",
      "    all_data$insured = insured\n",
      "    all_data$hospital = hospital\n",
      "    all_data$federal_funds = federal_funds\n",
      "    all_data$test_rate = test_rate\n",
      "    all_data$sex_ed_6_9 = sex_ed_6_9\n",
      "    all_data$sex_ed_9_12 = sex_ed_9_12\n",
      "    all_data$chlamydia = chlamydia\n",
      "    all_data$gonorrhea = gonorrhea\n",
      "    all_data$syphilis = syphilis\n",
      "\n",
      "    print('Loaded: hiv_diagnoses, citizenship_status, fpl, income, unemployment, insured, hospital, federal_funds, test_rate, sex_ed_6_9, sex_ed_9_12, chlamydia, gonorrhea, syphilis')\n",
      "\n",
      "    return(all_data)\n",
      "\n",
      "}"
     ],
     "language": "python",
     "metadata": {},
     "outputs": [
      {
       "output_type": "stream",
       "stream": "stdout",
       "text": [
        "Overwriting ./scripts/hiv_loader_clean.R\n"
       ]
      }
     ],
     "prompt_number": 21
    },
    {
     "cell_type": "code",
     "collapsed": false,
     "input": [],
     "language": "python",
     "metadata": {},
     "outputs": []
    }
   ],
   "metadata": {}
  }
 ]
}