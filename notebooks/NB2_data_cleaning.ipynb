{
 "metadata": {
  "name": ""
 },
 "nbformat": 3,
 "nbformat_minor": 0,
 "worksheets": [
  {
   "cells": [
    {
     "cell_type": "heading",
     "level": 1,
     "metadata": {},
     "source": [
      "Data Cleaning"
     ]
    },
    {
     "cell_type": "markdown",
     "metadata": {},
     "source": [
      "In this notebook, we'll\n",
      "\n",
      "* **load the raw data into R or Pandas dataframe** from the <code>./data/raw</code> directory using the functions and classes (written during the data gathering phase) in the <code>./scripts</code> directory\n",
      "\n",
      "\n",
      "* **perform visual exploration** on your data variables to detect anomalies, errors, outliers, interesting features etc.\n",
      "\n",
      "\n",
      "\n",
      "* **clean categorical and quantitative variables** (by removing observations and variables with too many missing values, by consolidating categorical variables, by selecting an appropriate subset of variables and observations for later analysis, etc.)\n",
      "\n",
      "\n",
      "* **save the cleaned data** into csv files in the <code>./data/cleaned</code> directory\n",
      "\n",
      "\n",
      "* **save interesting graphics** we obtained during visual exploration into the <code>./visualiation</code> directory"
     ]
    },
    {
     "cell_type": "markdown",
     "metadata": {},
     "source": [
      "###Team members responsible for this notebook:\n",
      "\n",
      "* team member 1 **name**: team member 1 **responsabilities**\n",
      "* team member 2 **name**: team member 2 **responsabilities**"
     ]
    },
    {
     "cell_type": "heading",
     "level": 2,
     "metadata": {},
     "source": [
      "Cleaning the HIV Data"
     ]
    },
    {
     "cell_type": "markdown",
     "metadata": {},
     "source": [
      "First, we'll need to load the data again using the functions defined in the previous notebook."
     ]
    },
    {
     "cell_type": "code",
     "collapsed": false,
     "input": [
      "%load_ext rmagic"
     ],
     "language": "python",
     "metadata": {},
     "outputs": [
      {
       "output_type": "stream",
       "stream": "stdout",
       "text": [
        "The rmagic extension is already loaded. To reload it, use:\n",
        "  %reload_ext rmagic\n"
       ]
      }
     ],
     "prompt_number": 71
    },
    {
     "cell_type": "code",
     "collapsed": false,
     "input": [
      "%%R\n",
      "source('./scripts/hiv_loader.R')\n",
      "\n",
      "hiv_diagnoses = get_hiv_diagnoses_df()\n",
      "citizenship_status = get_citizenship_status_df()\n",
      "fpl = get_fpl_df()\n",
      "income = get_income_df()\n",
      "unemployment = get_unemployment_df()\n",
      "insured = get_insured_df()\n",
      "hospital = get_hospital_df()\n",
      "federal_funds = get_federal_funds_df()\n",
      "test_rate = get_test_rate_df()\n",
      "sex_ed_6_9 = get_sex_ed_6_8_df()\n",
      "sex_ed_9_12 = get_sex_ed_9_12_df()\n",
      "chlamydia = get_chlamydia_df()\n",
      "gonorrhea = get_gonorrhea_df()\n",
      "syphilis = get_syphilis_df()"
     ],
     "language": "python",
     "metadata": {},
     "outputs": [],
     "prompt_number": 72
    },
    {
     "cell_type": "markdown",
     "metadata": {},
     "source": [
      "Next, we'll filter the `Location` field so that we limit our analysis to the 50 US states. We'll also reindex the dataframe."
     ]
    },
    {
     "cell_type": "code",
     "collapsed": false,
     "input": [
      "%%R\n",
      "states = c('Alabama', 'Alaska', 'Arizona', 'Arkansas', 'California', 'Colorado', 'Connecticut', 'Delaware', 'Florida', 'Georgia', 'Hawaii', 'Idaho', 'Illinois', 'Indiana', 'Iowa', 'Kansas', 'Kentucky', 'Louisiana', 'Maine', 'Maryland', 'Massachusetts', 'Michigan', 'Minnesota', 'Mississippi', 'Missouri', 'Montana', 'Nebraska', 'Nevada', 'New Hampshire', 'New Jersey', 'New Mexico', 'New York', 'North Carolina', 'North Dakota', 'Ohio', 'Oklahoma', 'Oregon', 'Pennsylvania', 'Rhode Island', 'South Carolina', 'South Dakota', 'Tennessee', 'Texas', 'Utah', 'Vermont', 'Virginia', 'Washington', 'West Virginia', 'Wisconsin', 'Wyoming')\n",
      "hiv_diagnoses = hiv_diagnoses[hiv_diagnoses$Location %in% states, ]\n",
      "row.names(hiv_diagnoses) = 1:nrow(hiv_diagnoses)\n",
      "citizenship_status = citizenship_status[citizenship_status$Location %in% states, ]\n",
      "row.names(citizenship_status) = 1:nrow(citizenship_status)\n",
      "fpl = fpl[fpl$Location %in% states, ]\n",
      "row.names(fpl) = 1:nrow(fpl)\n",
      "income = income[income$Location %in% states, ]\n",
      "row.names(income) = 1:nrow(income)\n",
      "unemployment = unemployment[unemployment$Location %in% states, ]\n",
      "row.names(unemployment) = 1:nrow(unemployment)\n",
      "insured = insured[insured$Location %in% states, ]\n",
      "row.names(insured) = 1:nrow(insured)\n",
      "hospital = hospital[hospital$Location %in% states, ]\n",
      "row.names(hospital) = 1:nrow(hospital)\n",
      "federal_funds = federal_funds[federal_funds$Location %in% states, ]\n",
      "row.names(federal_funds) = 1:nrow(federal_funds)\n",
      "test_rate = test_rate[test_rate$Location %in% states, ]\n",
      "row.names(test_rate) = 1:nrow(test_rate)\n",
      "sex_ed_6_9 = sex_ed_6_9[sex_ed_6_9$Location %in% states, ]\n",
      "row.names(sex_ed_6_9) = 1:nrow(sex_ed_6_9)\n",
      "sex_ed_9_12 = sex_ed_9_12[sex_ed_9_12$Location %in% states, ]\n",
      "row.names(sex_ed_9_12) = 1:nrow(sex_ed_9_12)\n",
      "chlamydia = chlamydia[chlamydia$Location %in% states, ]\n",
      "row.names(chlamydia) = 1:nrow(chlamydia)\n",
      "gonorrhea = gonorrhea[gonorrhea$Location %in% states, ]\n",
      "row.names(gonorrhea) = 1:nrow(gonorrhea)\n",
      "syphilis = syphilis[syphilis$Location %in% states, ]\n",
      "row.names(syphilis) = 1:nrow(syphilis)"
     ],
     "language": "python",
     "metadata": {},
     "outputs": [],
     "prompt_number": 73
    },
    {
     "cell_type": "heading",
     "level": 3,
     "metadata": {},
     "source": [
      "Dealing with Missing Values"
     ]
    },
    {
     "cell_type": "markdown",
     "metadata": {},
     "source": [
      "We conformed data to `NA` in `citizenship_status` and added `NA` values for Wyoming, which was missing completely."
     ]
    },
    {
     "cell_type": "code",
     "collapsed": false,
     "input": [
      "%%R\n",
      "citizenship_status[citizenship_status == 'NSD'] = NA\n",
      "if (nrow(citizenship_status) != 50) {\n",
      "    citizenship_status = rbind(citizenship_status, c('Wyoming', NA, NA, NA))\n",
      "}"
     ],
     "language": "python",
     "metadata": {},
     "outputs": [],
     "prompt_number": 74
    },
    {
     "cell_type": "heading",
     "level": 3,
     "metadata": {},
     "source": [
      "Normalizing Data Values"
     ]
    },
    {
     "cell_type": "code",
     "collapsed": false,
     "input": [],
     "language": "python",
     "metadata": {},
     "outputs": []
    }
   ],
   "metadata": {}
  }
 ]
}