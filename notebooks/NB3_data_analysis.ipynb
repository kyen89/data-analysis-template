{
 "metadata": {
  "name": ""
 },
 "nbformat": 3,
 "nbformat_minor": 0,
 "worksheets": [
  {
   "cells": [
    {
     "cell_type": "markdown",
     "metadata": {},
     "source": [
      "In this notebook, you'll perform the actual analysis of the data stored in the directory\n",
      "\n",
      "    ./data/cleaned\n",
      "\n",
      "If the data is not ready yet (e.g. the other members of the team in charge of cleaning the data are not done yet), you may want to simulate cleaned data in the form you want them to be in order to perform the analysis. This may also help you data cleaning team to come up with the rigth data frame. \n",
      "If you choose to do so, store your simulated data into the directory\n",
      "\n",
      "    ./data/simulated\n",
      "    \n",
      "Having performed analysis of simulated data may help you with the analysis of the actual data, since you will be able to notice deviations between the real and simulated data, which may be worth explaining and investigating further.\n",
      "\n",
      "The graphics your going to produce as a result of your analysis should be store in the directory:\n",
      "\n",
      "\n",
      "    ./visualization\n",
      "\n"
     ]
    },
    {
     "cell_type": "markdown",
     "metadata": {},
     "source": [
      "##Team members responsible for this notebook:\n",
      "\n",
      "List the team members contributing to this notebook, along with their responsabilities:\n",
      "\n",
      "* team member 1 **name**: team member 1 **responsabilities**\n",
      "* team member 2 **name**: team member 2 **responsabilities**\n",
      "* etc.\n",
      "\n",
      "I advise you to work at least in pairs for each project notebook, as you did for the homework assignments. Of course, all team members may participate to each notebook. "
     ]
    },
    {
     "cell_type": "heading",
     "level": 2,
     "metadata": {},
     "source": [
      "D3 Mapping of HIV Data"
     ]
    },
    {
     "cell_type": "code",
     "collapsed": false,
     "input": [
      "%%html\n",
      "<div id=\"d3-container\"></div>"
     ],
     "language": "python",
     "metadata": {},
     "outputs": [
      {
       "html": [
        "<div id=\"d3-container\"></div>"
       ],
       "metadata": {},
       "output_type": "display_data",
       "text": [
        "<IPython.core.display.HTML at 0x3a1f4d0>"
       ]
      }
     ],
     "prompt_number": 34
    },
    {
     "cell_type": "code",
     "collapsed": false,
     "input": [
      "javascript = \"\"\"\n",
      "require.config({paths: {d3: \"http://d3js.org/d3.v3.min\",\n",
      "                       topojson: \"http://d3js.org/topojson.v1.min\"}});\n",
      "\n",
      "var width = 960,\n",
      "    height = 500,\n",
      "    usJsonUrl = \"https://raw.githubusercontent.com/kyen89/project2/master/notebooks/data/geography/us.js\";\n",
      "\n",
      "require([\"d3\", \"topojson\"], function(d3, topojson) {\n",
      "\n",
      "    var svg = d3.select(\"#d3-container\").append(\"svg\")\n",
      "        .attr(\"width\", width)\n",
      "        .attr(\"height\", height);\n",
      "\n",
      "    d3.json(usJsonUrl, function(error, us) {\n",
      "        if (error) return console.error(error);\n",
      "        svg.append(\"g\")\n",
      "            .attr(\"class\", \"counties\")\n",
      "          .selectAll(\"path\")\n",
      "            .data(topojson.feature(us, us.objects.counties).features)\n",
      "          .enter().append(\"path\")\n",
      "            .attr(\"class\", function(d) { return quantize(d.properties.rate); })\n",
      "            .attr(\"d\", path);\n",
      "\n",
      "        svg.append(\"path\")\n",
      "            .datum(topojson.mesh(us, us.objects.counties, function(a, b) { return a.id / 1000 ^ b.id / 1000; }))\n",
      "            .attr(\"class\", \"state-borders\")\n",
      "            .attr(\"d\", path);\n",
      "    });\n",
      "\n",
      "});\n",
      "\"\"\""
     ],
     "language": "python",
     "metadata": {},
     "outputs": [],
     "prompt_number": 36
    },
    {
     "cell_type": "code",
     "collapsed": false,
     "input": [
      "from IPython.display import HTML, Javascript, display\n",
      "\n",
      "usJson = open('./data/geography/us.js').read()"
     ],
     "language": "python",
     "metadata": {},
     "outputs": [],
     "prompt_number": 38
    },
    {
     "cell_type": "code",
     "collapsed": false,
     "input": [],
     "language": "python",
     "metadata": {},
     "outputs": []
    }
   ],
   "metadata": {}
  }
 ]
}