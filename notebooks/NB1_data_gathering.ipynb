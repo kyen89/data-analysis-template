{
 "metadata": {
  "name": ""
 },
 "nbformat": 3,
 "nbformat_minor": 0,
 "worksheets": [
  {
   "cells": [
    {
     "cell_type": "heading",
     "level": 1,
     "metadata": {},
     "source": [
      "Data Gathering"
     ]
    },
    {
     "cell_type": "markdown",
     "metadata": {},
     "source": [
      "In this notebook, we'll\n",
      "\n",
      "* create the directory structure for our project\n",
      "* download the raw data for our project\n",
      "* **write functions and classes to transform raw data (e.g in XML, jason, etc.) into data frames**\n",
      "* explain what we are doing"
     ]
    },
    {
     "cell_type": "markdown",
     "metadata": {},
     "source": [
      "###Team members responsible for this notebook:\n",
      "\n",
      "* team member 1 **name**: team member 1 **responsabilities**\n",
      "* team member 2 **name**: team member 2 **responsabilities**"
     ]
    },
    {
     "cell_type": "heading",
     "level": 2,
     "metadata": {},
     "source": [
      "Collection of HIV Data"
     ]
    },
    {
     "cell_type": "markdown",
     "metadata": {},
     "source": [
      "We used R functions to download the data at first, the but the website generates the data dynamically with POST requests. **This following section of code will download empty files, but it shows the URLs we used.** We ended up downloading the CSV files manually from our own files on Dropbox."
     ]
    },
    {
     "cell_type": "code",
     "collapsed": false,
     "input": [
      "%reload_ext rmagic"
     ],
     "language": "python",
     "metadata": {},
     "outputs": [],
     "prompt_number": 3
    },
    {
     "cell_type": "code",
     "collapsed": false,
     "input": [
      "%%R\n",
      "\n",
      "data_dir = './data'\n",
      "raw_dir = paste(data_dir, '/raw', sep='')\n",
      "cleaned_dir = paste(data_dir, '/cleaned', sep='')\n",
      "\n",
      "dir.create(data_dir)\n",
      "dir.create(raw_dir)\n",
      "dir.create(cleaned_dir)"
     ],
     "language": "python",
     "metadata": {},
     "outputs": [],
     "prompt_number": 4
    },
    {
     "cell_type": "markdown",
     "metadata": {},
     "source": [
      "First, we gathered data for the infection rate per 100000 of HIV diagnosis, adults and adolescents. This data came from http://kff.org/state-category/hivaids/."
     ]
    },
    {
     "cell_type": "code",
     "collapsed": false,
     "input": [
      "protcol = 'https://'\n",
      "website = 'dl.dropboxusercontent.com/u/30426053/hiv_data/'\n",
      "\n",
      "csv_key = 'HIV_Diagnoses.csv'\n",
      "csv_url = protcol + website + csv_key\n",
      "print csv_url\n",
      "!curl $csv_url > './data/raw/HIV_Diagnoses.csv'"
     ],
     "language": "python",
     "metadata": {},
     "outputs": [
      {
       "output_type": "stream",
       "stream": "stdout",
       "text": [
        "https://dl.dropboxusercontent.com/u/30426053/hiv_data/HIV_Diagnoses.csv\n",
        "  % Total    % Received % Xferd  Average Speed   Time    Time     Time  Current\r\n",
        "                                 Dload  Upload   Total   Spent    Left  Speed\r\n",
        "\r",
        "  0     0    0     0    0     0      0      0 --:--:-- --:--:-- --:--:--     0"
       ]
      },
      {
       "output_type": "stream",
       "stream": "stdout",
       "text": [
        "\r",
        "100  1147  100  1147    0     0   1631      0 --:--:-- --:--:-- --:--:--  1633\r\n"
       ]
      }
     ],
     "prompt_number": 37
    },
    {
     "cell_type": "markdown",
     "metadata": {},
     "source": [
      "Supplementary data was available at another URL."
     ]
    },
    {
     "cell_type": "code",
     "collapsed": false,
     "input": [
      "protcol = 'https://'\n",
      "website = 'dl.dropboxusercontent.com/u/30426053/hiv_data/'\n",
      "\n",
      "#Citizenship Status\n",
      "cvs_key = 'Citizenship_Status.csv'\n",
      "csv_url = protcol + website + cvs_key\n",
      "print csv_url\n",
      "!curl $csv_url > './data/raw/Citizenship_Status.csv'\n",
      "\n",
      "#Population distribution by the Federal Poverty Level\n",
      "cvs_key = 'fpl.csv'\n",
      "csv_url = protcol + website + cvs_key\n",
      "print csv_url\n",
      "!curl $csv_url > './data/raw/fpl.csv'\n",
      "\n",
      "#Median Annual Income\n",
      "cvs_key = 'Median_Annual_Income.csv'\n",
      "csv_url = protcol + website + cvs_key\n",
      "print csv_url\n",
      "!curl $csv_url > './data/raw/Median_Annual_Income.csv'\n",
      "\n",
      "#Unemployment Rate\n",
      "cvs_key = 'unemployment_rate.csv'\n",
      "csv_url = protcol + website + cvs_key\n",
      "print csv_url\n",
      "!curl $csv_url > './data/raw/unemployment_rate.csv'\n",
      "\n",
      "#Total Population that is Insured\n",
      "cvs_key = 'Has_Insurance.csv'\n",
      "csv_url = protcol + website + cvs_key\n",
      "print csv_url\n",
      "!curl $csv_url > './data/raw/Has_Insurance.csv'\n",
      "\n",
      "#Hospital Ownership Type\n",
      "cvs_key = 'Hospital_Owners.csv'\n",
      "csv_url = protcol + website + cvs_key\n",
      "print csv_url\n",
      "!curl $csv_url > './data/raw/Hospital_Owners.csv'\n",
      "\n",
      "#Federal Funding for Aids prevention\n",
      "cvs_key = 'Federal_Funds.csv'\n",
      "csv_url = protcol + website + cvs_key\n",
      "print csv_url\n",
      "!curl $csv_url > './data/raw/Federal_Funds.csv'\n",
      "\n",
      "#Hiv Testing Rate\n",
      "cvs_key = 'Test_Rate.csv'\n",
      "csv_url = protcol + website + cvs_key\n",
      "print csv_url\n",
      "!curl $csv_url > './data/raw/Test_Rate.csv'\n",
      "\n",
      "#Sex Ed Grades 6-8\n",
      "cvs_key = 'Sex_Ed_6_8.csv'\n",
      "csv_url = protcol + website + cvs_key\n",
      "print csv_url\n",
      "!curl $csv_url > './data/raw/Sex_Ed_6_8.csv'\n",
      "\n",
      "#Sex Ed Grades 9-12\n",
      "cvs_key = 'Sex_Ed_9_12.csv'\n",
      "csv_url = protcol + website + cvs_key\n",
      "print csv_url\n",
      "!curl $csv_url > './data/raw/Sex_Ed_9_12.csv'\n",
      "\n",
      "#Number of Reported Chlamydia Cases\n",
      "cvs_key = 'chlamydia_cases.csv'\n",
      "csv_url = protcol + website + cvs_key\n",
      "print csv_url\n",
      "!curl $csv_url > './data/raw/chlamydia_cases.csv'\n",
      "\n",
      "#Number of Reported Gonorrhea Cases\n",
      "cvs_key = 'gonorrhea_cases.csv'\n",
      "csv_url = protcol + website + cvs_key\n",
      "print csv_url\n",
      "!curl $csv_url > './data/raw/gonorrhea_cases.csv'\n",
      "\n",
      "#Number of Reported Syphilis Cases\n",
      "cvs_key = 'syphilis_cases.csv'\n",
      "csv_url = protcol + website + cvs_key\n",
      "print csv_url\n",
      "!curl $csv_url > './data/raw/syphilis_cases.csv'"
     ],
     "language": "python",
     "metadata": {},
     "outputs": [
      {
       "output_type": "stream",
       "stream": "stdout",
       "text": [
        "https://dl.dropboxusercontent.com/u/30426053/hiv_data/Citizenship_Status.csv\n",
        "  % Total    % Received % Xferd  Average Speed   Time    Time     Time  Current\r\n",
        "                                 Dload  Upload   Total   Spent    Left  Speed\r\n",
        "\r",
        "  0     0    0     0    0     0      0      0 --:--:-- --:--:-- --:--:--     0"
       ]
      },
      {
       "output_type": "stream",
       "stream": "stdout",
       "text": [
        "\r",
        "  0     0    0     0    0     0      0      0 --:--:-- --:--:-- --:--:--     0"
       ]
      },
      {
       "output_type": "stream",
       "stream": "stdout",
       "text": [
        "\r",
        "100  2099  100  2099    0     0   3312      0 --:--:-- --:--:-- --:--:--  3310\r\n"
       ]
      },
      {
       "output_type": "stream",
       "stream": "stdout",
       "text": [
        "https://dl.dropboxusercontent.com/u/30426053/hiv_data/fpl.csv\n",
        "  % Total    % Received % Xferd  Average Speed   Time    Time     Time  Current\r\n",
        "                                 Dload  Upload   Total   Spent    Left  Speed\r\n",
        "\r",
        "  0     0    0     0    0     0      0      0 --:--:-- --:--:-- --:--:--     0"
       ]
      },
      {
       "output_type": "stream",
       "stream": "stdout",
       "text": [
        "\r",
        "  0     0    0     0    0     0      0      0 --:--:-- --:--:-- --:--:--     0"
       ]
      },
      {
       "output_type": "stream",
       "stream": "stdout",
       "text": [
        "\r",
        "100  4023  100  4023    0     0   4455      0 --:--:-- --:--:-- --:--:--  4455\r\n"
       ]
      },
      {
       "output_type": "stream",
       "stream": "stdout",
       "text": [
        "https://dl.dropboxusercontent.com/u/30426053/hiv_data/Median_Annual_Income.csv\n",
        "  % Total    % Received % Xferd  Average Speed   Time    Time     Time  Current\r\n",
        "                                 Dload  Upload   Total   Spent    Left  Speed\r\n",
        "\r",
        "  0     0    0     0    0     0      0      0 --:--:-- --:--:-- --:--:--     0"
       ]
      },
      {
       "output_type": "stream",
       "stream": "stdout",
       "text": [
        "\r",
        "  0     0    0     0    0     0      0      0 --:--:-- --:--:-- --:--:--     0"
       ]
      },
      {
       "output_type": "stream",
       "stream": "stdout",
       "text": [
        "\r",
        "100  1045  100  1045    0     0   1715      0 --:--:-- --:--:-- --:--:--  1713\r\n"
       ]
      },
      {
       "output_type": "stream",
       "stream": "stdout",
       "text": [
        "https://dl.dropboxusercontent.com/u/30426053/hiv_data/unemployment_rate.csv\n",
        "  % Total    % Received % Xferd  Average Speed   Time    Time     Time  Current\r\n",
        "                                 Dload  Upload   Total   Spent    Left  Speed\r\n",
        "\r",
        "  0     0    0     0    0     0      0      0 --:--:-- --:--:-- --:--:--     0"
       ]
      },
      {
       "output_type": "stream",
       "stream": "stdout",
       "text": [
        "\r",
        "100  1394  100  1394    0     0   2127      0 --:--:-- --:--:-- --:--:--  2125\r",
        "100  1394  100  1394    0     0   2126      0 --:--:-- --:--:-- --:--:--  2125\r\n"
       ]
      },
      {
       "output_type": "stream",
       "stream": "stdout",
       "text": [
        "https://dl.dropboxusercontent.com/u/30426053/hiv_data/Has_Insurance.csv\n",
        "  % Total    % Received % Xferd  Average Speed   Time    Time     Time  Current\r\n",
        "                                 Dload  Upload   Total   Spent    Left  Speed\r\n",
        "\r",
        "  0     0    0     0    0     0      0      0 --:--:-- --:--:-- --:--:--     0"
       ]
      },
      {
       "output_type": "stream",
       "stream": "stdout",
       "text": [
        "\r",
        "  0     0    0     0    0     0      0      0 --:--:-- --:--:-- --:--:--     0"
       ]
      },
      {
       "output_type": "stream",
       "stream": "stdout",
       "text": [
        "\r",
        "100  4514  100  4514    0     0   3481      0  0:00:01  0:00:01 --:--:--  3483\r\n"
       ]
      },
      {
       "output_type": "stream",
       "stream": "stdout",
       "text": [
        "https://dl.dropboxusercontent.com/u/30426053/hiv_data/Hospital_Owners.csv\n",
        "  % Total    % Received % Xferd  Average Speed   Time    Time     Time  Current\r\n",
        "                                 Dload  Upload   Total   Spent    Left  Speed\r\n",
        "\r",
        "  0     0    0     0    0     0      0      0 --:--:-- --:--:-- --:--:--     0"
       ]
      },
      {
       "output_type": "stream",
       "stream": "stdout",
       "text": [
        "\r",
        "  0     0    0     0    0     0      0      0 --:--:-- --:--:-- --:--:--     0"
       ]
      },
      {
       "output_type": "stream",
       "stream": "stdout",
       "text": [
        "\r",
        "100  1816  100  1816    0     0   2674      0 --:--:-- --:--:-- --:--:--  2674\r\n"
       ]
      },
      {
       "output_type": "stream",
       "stream": "stdout",
       "text": [
        "https://dl.dropboxusercontent.com/u/30426053/hiv_data/Federal_Funds.csv\n",
        "  % Total    % Received % Xferd  Average Speed   Time    Time     Time  Current\r\n",
        "                                 Dload  Upload   Total   Spent    Left  Speed\r\n",
        "\r",
        "  0     0    0     0    0     0      0      0 --:--:-- --:--:-- --:--:--     0"
       ]
      },
      {
       "output_type": "stream",
       "stream": "stdout",
       "text": [
        "\r",
        "  0     0    0     0    0     0      0      0 --:--:-- --:--:-- --:--:--     0\r",
        "100  3335  100  3335    0     0   5320      0 --:--:-- --:--:-- --:--:--  5318\r\n"
       ]
      },
      {
       "output_type": "stream",
       "stream": "stdout",
       "text": [
        "https://dl.dropboxusercontent.com/u/30426053/hiv_data/Test_Rate.csv\n",
        "  % Total    % Received % Xferd  Average Speed   Time    Time     Time  Current\r\n",
        "                                 Dload  Upload   Total   Spent    Left  Speed\r\n",
        "\r",
        "  0     0    0     0    0     0      0      0 --:--:-- --:--:-- --:--:--     0"
       ]
      },
      {
       "output_type": "stream",
       "stream": "stdout",
       "text": [
        "\r",
        "  0     0    0     0    0     0      0      0 --:--:--  0:00:01 --:--:--     0\r",
        "100  1122  100  1122    0     0   1110      0  0:00:01  0:00:01 --:--:--  1110\r\n"
       ]
      },
      {
       "output_type": "stream",
       "stream": "stdout",
       "text": [
        "https://dl.dropboxusercontent.com/u/30426053/hiv_data/Sex_Ed_6_8.csv\n",
        "  % Total    % Received % Xferd  Average Speed   Time    Time     Time  Current\r\n",
        "                                 Dload  Upload   Total   Spent    Left  Speed\r\n",
        "\r",
        "  0     0    0     0    0     0      0      0 --:--:-- --:--:-- --:--:--     0"
       ]
      },
      {
       "output_type": "stream",
       "stream": "stdout",
       "text": [
        "\r",
        "100  1553  100  1553    0     0   2997      0 --:--:-- --:--:-- --:--:--  3003\r\n"
       ]
      },
      {
       "output_type": "stream",
       "stream": "stdout",
       "text": [
        "https://dl.dropboxusercontent.com/u/30426053/hiv_data/Sex_Ed_9_12.csv\n",
        "  % Total    % Received % Xferd  Average Speed   Time    Time     Time  Current\r\n",
        "                                 Dload  Upload   Total   Spent    Left  Speed\r\n",
        "\r",
        "  0     0    0     0    0     0      0      0 --:--:-- --:--:-- --:--:--     0"
       ]
      },
      {
       "output_type": "stream",
       "stream": "stdout",
       "text": [
        "\r",
        "100  1563  100  1563    0     0   2863      0 --:--:-- --:--:-- --:--:--  2867\r\n"
       ]
      },
      {
       "output_type": "stream",
       "stream": "stdout",
       "text": [
        "https://dl.dropboxusercontent.com/u/30426053/hiv_data/chlamydia_cases.csv\n",
        "  % Total    % Received % Xferd  Average Speed   Time    Time     Time  Current\r\n",
        "                                 Dload  Upload   Total   Spent    Left  Speed\r\n",
        "\r",
        "  0     0    0     0    0     0      0      0 --:--:-- --:--:-- --:--:--     0"
       ]
      },
      {
       "output_type": "stream",
       "stream": "stdout",
       "text": [
        "\r",
        "100  1071  100  1071    0     0   1921      0 --:--:-- --:--:-- --:--:--  1919\r",
        "100  1071  100  1071    0     0   1920      0 --:--:-- --:--:-- --:--:--  1919\r\n"
       ]
      },
      {
       "output_type": "stream",
       "stream": "stdout",
       "text": [
        "https://dl.dropboxusercontent.com/u/30426053/hiv_data/gonorrhea_cases.csv\n",
        "  % Total    % Received % Xferd  Average Speed   Time    Time     Time  Current\r\n",
        "                                 Dload  Upload   Total   Spent    Left  Speed\r\n",
        "\r",
        "  0     0    0     0    0     0      0      0 --:--:-- --:--:-- --:--:--     0"
       ]
      },
      {
       "output_type": "stream",
       "stream": "stdout",
       "text": [
        "\r",
        "100  1022  100  1022    0     0   1956      0 --:--:-- --:--:-- --:--:--  1957\r\n"
       ]
      },
      {
       "output_type": "stream",
       "stream": "stdout",
       "text": [
        "https://dl.dropboxusercontent.com/u/30426053/hiv_data/syphilis_cases.csv\n",
        "  % Total    % Received % Xferd  Average Speed   Time    Time     Time  Current\r\n",
        "                                 Dload  Upload   Total   Spent    Left  Speed\r\n",
        "\r",
        "  0     0    0     0    0     0      0      0 --:--:-- --:--:-- --:--:--     0"
       ]
      },
      {
       "output_type": "stream",
       "stream": "stdout",
       "text": [
        "\r",
        "100 "
       ]
      },
      {
       "output_type": "stream",
       "stream": "stdout",
       "text": [
        "  963  100   963    0     0   1412      0 --:--:-- --:--:-- --:--:--  1414\r\n"
       ]
      }
     ],
     "prompt_number": 38
    },
    {
     "cell_type": "heading",
     "level": 2,
     "metadata": {},
     "source": [
      "Loading the HIV Data"
     ]
    },
    {
     "cell_type": "markdown",
     "metadata": {},
     "source": [
      "In this step, we define a script to be reused that will load each of the CSV files into data frames. Each one is treated separately because loading each one is different."
     ]
    },
    {
     "cell_type": "code",
     "collapsed": false,
     "input": [
      "%%file ./scripts/hiv_loader.R\n",
      "\n",
      "options(stringsAsFactors=FALSE)\n",
      "\n",
      "get_hiv_diagnoses_df = function() {\n",
      "    HIV_Diagnoses = read.csv('./data/raw/HIV_Diagnoses.csv', header = F)\n",
      "    col_name_HIV = HIV_Diagnoses[4,1:2]\n",
      "    loaded.HIV_Diagnoses = (HIV_Diagnoses[5:60,1:2])\n",
      "    names(loaded.HIV_Diagnoses) = unlist(col_name_HIV)\n",
      "    row.names(loaded.HIV_Diagnoses) = 1:nrow(loaded.HIV_Diagnoses)\n",
      "    \n",
      "    return(loaded.HIV_Diagnoses)\n",
      "}\n",
      "\n",
      "get_citizenship_status_df = function() {\n",
      "    Citizenship_Status = read.csv('./data/raw/Citizenship_Status.csv',header = F)\n",
      "    col_names_citizen = Citizenship_Status[4,1:4]\n",
      "    loaded.Citizenship_Status = (Citizenship_Status[5:55,1:4])\n",
      "    names(loaded.Citizenship_Status) = unlist(col_names_citizen)\n",
      "    row.names(loaded.Citizenship_Status) = 1:nrow(loaded.Citizenship_Status)\n",
      "    \n",
      "    return(loaded.Citizenship_Status)\n",
      "}\n",
      "\n",
      "get_fpl_df = function() {\n",
      "    fpl = read.csv('./data/raw/fpl.csv',header = F)\n",
      "    col_name_fpl = fpl[4,1:7]\n",
      "    loaded.fpl = (fpl[5:56,1:7])\n",
      "    names(loaded.fpl) = unlist(col_name_fpl)\n",
      "    row.names(loaded.fpl) = 1:nrow(loaded.fpl)\n",
      "    \n",
      "    return(loaded.fpl)\n",
      "}\n",
      "\n",
      "get_income_df = function() {\n",
      "    Median_Annual_Income = read.csv('./data/raw/Median_Annual_Income.csv',header = F)\n",
      "    col_name_medIncome = Median_Annual_Income[4,1:2]\n",
      "    loaded.Median_Annual_Income = (Median_Annual_Income[5:56,1:2])\n",
      "    names(loaded.Median_Annual_Income) = unlist(col_name_medIncome)\n",
      "    row.names(loaded.Median_Annual_Income) = 1:nrow(loaded.Median_Annual_Income)\n",
      "    \n",
      "    return(loaded.Median_Annual_Income)\n",
      "}\n",
      "\n",
      "get_unemployment_df = function() {\n",
      "    unemployment_rate = read.csv('./data/raw/unemployment_rate.csv',header = F)\n",
      "    col_name_unempRate = unemployment_rate[4,1:3]\n",
      "    loaded.unemployment_rate = (unemployment_rate[5:57,1:3])\n",
      "    names(loaded.unemployment_rate) = unlist(col_name_unempRate)\n",
      "    row.names(loaded.unemployment_rate) = 1:nrow(loaded.unemployment_rate)     \n",
      "\n",
      "    return(loaded.unemployment_rate)\n",
      "}\n",
      "\n",
      "get_insured_df = function() {\n",
      "    pop_insured = read.csv('./data/raw/Has_Insurance.csv',header = F)\n",
      "    col_name_insured = pop_insured[4,1:8]\n",
      "    loaded.pop_insured = (pop_insured[5:56,1:8])\n",
      "    names(loaded.pop_insured) = unlist(col_name_insured)\n",
      "    row.names(loaded.pop_insured) = 1:nrow(loaded.pop_insured)\n",
      "    \n",
      "    return(loaded.pop_insured)\n",
      "}\n",
      "\n",
      "get_hospital_df = function() {\n",
      "    Hospital_Owners = read.csv('./data/raw/Hospital_Owners.csv',header = F)\n",
      "    col_name_HospOwners = Hospital_Owners[4,1:5]\n",
      "    loaded.Hospital_Owners = (Hospital_Owners[5:56,1:5])\n",
      "    names(loaded.Hospital_Owners) = unlist(col_name_HospOwners)\n",
      "    row.names(loaded.Hospital_Owners) = 1:nrow(loaded.Hospital_Owners)\n",
      "    \n",
      "    return(loaded.Hospital_Owners)\n",
      "}\n",
      "\n",
      "get_federal_funds_df = function() {\n",
      "    Federal_Funds = read.csv('./data/raw/Federal_Funds.csv',header = F)\n",
      "    col_name_FedFunds = Federal_Funds[4,1:7]\n",
      "    loaded.Federal_Funds = (Federal_Funds[5:64,1:7])\n",
      "    names(loaded.Federal_Funds) = unlist(col_name_FedFunds)\n",
      "    row.names(loaded.Federal_Funds) = 1:nrow(loaded.Federal_Funds)\n",
      "    \n",
      "    return(loaded.Federal_Funds)\n",
      "}\n",
      "\n",
      "get_test_rate_df = function() {\n",
      "    Test_Rate = read.csv('./data/raw/Test_Rate.csv',header = F)\n",
      "    col_name_TestRate = Test_Rate[4,1:2]\n",
      "    loaded.Test_Rate = (Test_Rate[5:58,1:2])\n",
      "    names(loaded.Test_Rate) = unlist(col_name_TestRate)\n",
      "    row.names(loaded.Test_Rate) = 1:nrow(loaded.Test_Rate)\n",
      "    \n",
      "    return(loaded.Test_Rate)\n",
      "}\n",
      "\n",
      "get_sex_ed_6_8_df = function() {\n",
      "    Sex_Ed_6_8 = read.csv('./data/raw/Sex_Ed_6_8.csv',header = F)\n",
      "    col_name_SexEd_6_8 = Sex_Ed_6_8[4,1:3]\n",
      "    loaded.Sex_Ed_6_8 = (Sex_Ed_6_8[5:56,1:3])\n",
      "    names(loaded.Sex_Ed_6_8) = unlist(col_name_SexEd_6_8)\n",
      "    row.names(loaded.Sex_Ed_6_8) = 1:nrow(loaded.Sex_Ed_6_8)\n",
      "    \n",
      "    return(loaded.Sex_Ed_6_8)\n",
      "}\n",
      "\n",
      "get_sex_ed_9_12_df = function() {\n",
      "    Sex_Ed_9_12 = read.csv('./data/raw/Sex_Ed_9_12.csv',header = F)\n",
      "    col_name_SexEd_9_12 = Sex_Ed_9_12[4,1:3]\n",
      "    loaded.Sex_Ed_9_12 = (Sex_Ed_9_12[5:56,1:3])\n",
      "    names(loaded.Sex_Ed_9_12) = unlist(col_name_SexEd_9_12)\n",
      "    row.names(loaded.Sex_Ed_9_12) = 1:nrow(loaded.Sex_Ed_9_12)\n",
      "    \n",
      "    return(loaded.Sex_Ed_9_12)\n",
      "}\n",
      "\n",
      "get_chlamydia_df = function() {\n",
      "    chlamydia_cases = read.csv('./data/raw/chlamydia_cases.csv',header = F)\n",
      "    col_name_chlamydia = chlamydia_cases[4,1:2]\n",
      "    loaded.chlamydia_cases = (chlamydia_cases[5:59,1:2])\n",
      "    names(loaded.chlamydia_cases) = unlist(col_name_chlamydia)\n",
      "    row.names(loaded.chlamydia_cases) = 1:nrow(loaded.chlamydia_cases)\n",
      "    \n",
      "    return(loaded.chlamydia_cases)\n",
      "}\n",
      "\n",
      "get_gonorrhea_df = function() {\n",
      "    gonorrhea_cases = read.csv('./data/raw/gonorrhea_cases.csv',header = F)\n",
      "    col_name_gonorrhea = gonorrhea_cases[4,1:2]\n",
      "    loaded.gonorrhea_cases = (gonorrhea_cases[5:59,1:2])\n",
      "    names(loaded.gonorrhea_cases) = unlist(col_name_gonorrhea)\n",
      "    row.names(loaded.gonorrhea_cases) = 1:nrow(loaded.gonorrhea_cases)\n",
      "    \n",
      "    return(loaded.gonorrhea_cases)\n",
      "}\n",
      "\n",
      "get_syphilis_df = function() {\n",
      "    syphilis_cases = read.csv('./data/raw/syphilis_cases.csv',header = F)\n",
      "    col_name_syphilis = syphilis_cases[4,1:2]\n",
      "    loaded.syphilis_cases = (syphilis_cases[5:59,1:2])\n",
      "    names(loaded.syphilis_cases) = unlist(col_name_syphilis)\n",
      "    row.names(loaded.syphilis_cases) = 1:nrow(loaded.syphilis_cases)\n",
      "    \n",
      "    return(loaded.syphilis_cases)\n",
      "}"
     ],
     "language": "python",
     "metadata": {},
     "outputs": [
      {
       "output_type": "stream",
       "stream": "stdout",
       "text": [
        "Overwriting ./scripts/hiv_loader.R\n"
       ]
      }
     ],
     "prompt_number": 39
    }
   ],
   "metadata": {}
  }
 ]
}